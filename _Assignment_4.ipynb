{
 "cells": [
  {
   "cell_type": "markdown",
   "id": "2c2750fd",
   "metadata": {},
   "source": [
    "[] The empty list value, which is a list value that contains no items."
   ]
  },
  {
   "cell_type": "code",
   "execution_count": null,
   "id": "27467ad9",
   "metadata": {},
   "outputs": [],
   "source": [
    "Spam [2] = 'hello'"
   ]
  },
  {
   "cell_type": "code",
   "execution_count": 1,
   "id": "97afe3b4",
   "metadata": {},
   "outputs": [],
   "source": [
    "spam = ['a','b','c','d']"
   ]
  },
  {
   "cell_type": "code",
   "execution_count": 2,
   "id": "d79d4719",
   "metadata": {},
   "outputs": [
    {
     "data": {
      "text/plain": [
       "'d'"
      ]
     },
     "execution_count": 2,
     "metadata": {},
     "output_type": "execute_result"
    }
   ],
   "source": [
    "spam[int(int('3'*2)/11)]"
   ]
  },
  {
   "cell_type": "code",
   "execution_count": 3,
   "id": "a3113a1d",
   "metadata": {},
   "outputs": [
    {
     "data": {
      "text/plain": [
       "'d'"
      ]
     },
     "execution_count": 3,
     "metadata": {},
     "output_type": "execute_result"
    }
   ],
   "source": [
    "spam[-1]"
   ]
  },
  {
   "cell_type": "code",
   "execution_count": 4,
   "id": "d5a34c79",
   "metadata": {},
   "outputs": [
    {
     "data": {
      "text/plain": [
       "['a', 'b']"
      ]
     },
     "execution_count": 4,
     "metadata": {},
     "output_type": "execute_result"
    }
   ],
   "source": [
    "spam[:2]"
   ]
  },
  {
   "cell_type": "code",
   "execution_count": 5,
   "id": "2295d763",
   "metadata": {},
   "outputs": [],
   "source": [
    "bacon = [3.14, 'cat', 11, 'cat', True]"
   ]
  },
  {
   "cell_type": "code",
   "execution_count": 6,
   "id": "58a1d7ab",
   "metadata": {},
   "outputs": [
    {
     "data": {
      "text/plain": [
       "1"
      ]
     },
     "execution_count": 6,
     "metadata": {},
     "output_type": "execute_result"
    }
   ],
   "source": [
    "bacon.index('cat')"
   ]
  },
  {
   "cell_type": "code",
   "execution_count": 7,
   "id": "6f858636",
   "metadata": {},
   "outputs": [],
   "source": [
    "bacon.append(99)"
   ]
  },
  {
   "cell_type": "code",
   "execution_count": 8,
   "id": "a7d8cf98",
   "metadata": {},
   "outputs": [
    {
     "data": {
      "text/plain": [
       "[3.14, 'cat', 11, 'cat', True, 99]"
      ]
     },
     "execution_count": 8,
     "metadata": {},
     "output_type": "execute_result"
    }
   ],
   "source": [
    "bacon"
   ]
  },
  {
   "cell_type": "markdown",
   "id": "c1fca0eb",
   "metadata": {},
   "source": [
    "It added 99 to the bacon list"
   ]
  },
  {
   "cell_type": "code",
   "execution_count": 9,
   "id": "8393180c",
   "metadata": {},
   "outputs": [],
   "source": [
    "bacon.remove('cat')"
   ]
  },
  {
   "cell_type": "code",
   "execution_count": 10,
   "id": "01f2fe42",
   "metadata": {},
   "outputs": [
    {
     "data": {
      "text/plain": [
       "[3.14, 11, 'cat', True, 99]"
      ]
     },
     "execution_count": 10,
     "metadata": {},
     "output_type": "execute_result"
    }
   ],
   "source": [
    "bacon"
   ]
  },
  {
   "cell_type": "markdown",
   "id": "2f74100f",
   "metadata": {},
   "source": [
    "It removed the string 'cat' from the list following the order of the indexing"
   ]
  },
  {
   "cell_type": "markdown",
   "id": "c4d4a0be",
   "metadata": {},
   "source": [
    "The operator for list concatenation is +, while the operator for replication is *."
   ]
  },
  {
   "cell_type": "markdown",
   "id": "d254433d",
   "metadata": {},
   "source": [
    "Append() will add values only to the end of a list, insert() can add them anywhere in the list."
   ]
  },
  {
   "cell_type": "markdown",
   "id": "d46b99c8",
   "metadata": {},
   "source": [
    "The del statement and the remove() list method are two ways to remove values from a list."
   ]
  },
  {
   "cell_type": "markdown",
   "id": "e6d36fb2",
   "metadata": {},
   "source": [
    "Both lists and strings can be passed to len(), have indexes and slices, be used in for loops, be concatenated or replicated, and be used with the in and not in operators."
   ]
  },
  {
   "cell_type": "markdown",
   "id": "69d6ba5b",
   "metadata": {},
   "source": [
    "Lists are mutable; they can have values added, removed, or changed. \n",
    "Tuples are immutable; they cannot be changed at all. \n",
    "Tuples are written using parentheses().\n",
    "Lists use the square brackets[]."
   ]
  },
  {
   "cell_type": "markdown",
   "id": "818df726",
   "metadata": {},
   "source": [
    "(42,) (The trailing comma is mandatory.)"
   ]
  },
  {
   "cell_type": "markdown",
   "id": "8d5b27b3",
   "metadata": {},
   "source": [
    "The tuple() and list() functions"
   ]
  },
  {
   "cell_type": "markdown",
   "id": "0f74cbf7",
   "metadata": {},
   "source": [
    "They contain references to list values."
   ]
  },
  {
   "cell_type": "markdown",
   "id": "657a1605",
   "metadata": {},
   "source": [
    "They copy.copy() function will do a shallow copy of a list, while the copy.deepcopy() function will do a deep copy of a list."
   ]
  },
  {
   "cell_type": "code",
   "execution_count": null,
   "id": "e49c2a6e",
   "metadata": {},
   "outputs": [],
   "source": []
  }
 ],
 "metadata": {
  "kernelspec": {
   "display_name": "Python 3",
   "language": "python",
   "name": "python3"
  },
  "language_info": {
   "codemirror_mode": {
    "name": "ipython",
    "version": 3
   },
   "file_extension": ".py",
   "mimetype": "text/x-python",
   "name": "python",
   "nbconvert_exporter": "python",
   "pygments_lexer": "ipython3",
   "version": "3.8.8"
  }
 },
 "nbformat": 4,
 "nbformat_minor": 5
}
