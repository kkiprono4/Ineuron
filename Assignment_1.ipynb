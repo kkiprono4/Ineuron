{
 "cells": [
  {
   "cell_type": "markdown",
   "id": "c186b608",
   "metadata": {},
   "source": [
    "* is an expression (mathematical operator for multiplication)\n",
    "'hello' is a string value\n",
    "-87.8 is a floating value\n",
    "- is an expression (mathematical operator for substraction)\n",
    "/ is an expression(mathematical operator for division)\n",
    "+ is an expression(mathematical operator for addition)\n",
    "6 is an integer value"
   ]
  },
  {
   "cell_type": "markdown",
   "id": "d126963e",
   "metadata": {},
   "source": [
    "Variable is a container where we can store different data values\n",
    "String is an ummutable data type in python which cannot be changed once we declare it in a program. We use single or double quotes to declare strings in python."
   ]
  },
  {
   "cell_type": "markdown",
   "id": "05122e1f",
   "metadata": {},
   "source": [
    "Text Type:\tstr for strings which are arrays of bytes representing unicode characters.\n",
    "Numeric Types:\tint for integer values, float for floating numbers i.e with decimals, complex which represent complex numbers i.e 9j\n",
    "Boolean Type:\tbool wich can either be True or False "
   ]
  },
  {
   "cell_type": "markdown",
   "id": "49b05c50",
   "metadata": {},
   "source": [
    "An expression is made up of operators and operands.\n",
    "Expressions are interpreted or evaluate to a single value depending on the operators used."
   ]
  },
  {
   "cell_type": "markdown",
   "id": "109a2d64",
   "metadata": {},
   "source": [
    "Statements represent an action or command e.g print statements, assignment statements. spam = 10 \n",
    "Expression is a combination of variables, operations and values that yields a result value. 10*10 "
   ]
  },
  {
   "cell_type": "code",
   "execution_count": 3,
   "id": "545dbc7c",
   "metadata": {},
   "outputs": [],
   "source": [
    "bacon = 22\n"
   ]
  },
  {
   "cell_type": "code",
   "execution_count": 4,
   "id": "6abc2ce0",
   "metadata": {},
   "outputs": [
    {
     "data": {
      "text/plain": [
       "23"
      ]
     },
     "execution_count": 4,
     "metadata": {},
     "output_type": "execute_result"
    }
   ],
   "source": [
    "bacon + 1"
   ]
  },
  {
   "cell_type": "code",
   "execution_count": 5,
   "id": "bbb30c54",
   "metadata": {},
   "outputs": [
    {
     "data": {
      "text/plain": [
       "22"
      ]
     },
     "execution_count": 5,
     "metadata": {},
     "output_type": "execute_result"
    }
   ],
   "source": [
    "bacon"
   ]
  },
  {
   "cell_type": "markdown",
   "id": "870d34b3",
   "metadata": {},
   "source": [
    "variable bacon contains int(22) because it was assigned to it when it was being declared initially \n",
    "bacon + 1 is just an expression that yields int(23) but it doesn't assign the resulsts to the variable"
   ]
  },
  {
   "cell_type": "code",
   "execution_count": 6,
   "id": "0d1922aa",
   "metadata": {},
   "outputs": [
    {
     "data": {
      "text/plain": [
       "'spamspamspam'"
      ]
     },
     "execution_count": 6,
     "metadata": {},
     "output_type": "execute_result"
    }
   ],
   "source": [
    "'spam' + 'spamspam'"
   ]
  },
  {
   "cell_type": "code",
   "execution_count": 7,
   "id": "6fa70aa7",
   "metadata": {},
   "outputs": [
    {
     "data": {
      "text/plain": [
       "'spamspamspam'"
      ]
     },
     "execution_count": 7,
     "metadata": {},
     "output_type": "execute_result"
    }
   ],
   "source": [
    "'spam'*3"
   ]
  },
  {
   "cell_type": "markdown",
   "id": "24a24cac",
   "metadata": {},
   "source": [
    "A variable name must start with a letter or the underscore character and cannot start with a number.\n",
    "A variable name can only contain alpha-numeric characters and underscores (A-z, 0-9, and _ )"
   ]
  },
  {
   "cell_type": "markdown",
   "id": "7c585e94",
   "metadata": {},
   "source": [
    "int() for integer value\n",
    "float() for floating number\n",
    "str() for strings"
   ]
  },
  {
   "cell_type": "code",
   "execution_count": 1,
   "id": "69762657",
   "metadata": {},
   "outputs": [
    {
     "ename": "TypeError",
     "evalue": "can only concatenate str (not \"int\") to str",
     "output_type": "error",
     "traceback": [
      "\u001b[1;31m---------------------------------------------------------------------------\u001b[0m",
      "\u001b[1;31mTypeError\u001b[0m                                 Traceback (most recent call last)",
      "\u001b[1;32m<ipython-input-1-f5781a105d59>\u001b[0m in \u001b[0;36m<module>\u001b[1;34m\u001b[0m\n\u001b[1;32m----> 1\u001b[1;33m \u001b[1;34m'I have eaten'\u001b[0m \u001b[1;33m+\u001b[0m \u001b[1;36m99\u001b[0m \u001b[1;33m+\u001b[0m \u001b[1;34m'burritos.'\u001b[0m\u001b[1;33m\u001b[0m\u001b[1;33m\u001b[0m\u001b[0m\n\u001b[0m",
      "\u001b[1;31mTypeError\u001b[0m: can only concatenate str (not \"int\") to str"
     ]
    }
   ],
   "source": [
    "'I have eaten' + 99 + 'burritos.'"
   ]
  },
  {
   "cell_type": "markdown",
   "id": "d39c1cb3",
   "metadata": {},
   "source": [
    "The error is because of the different data types in the expression. In python the value you are concatenating needs to be same type, both int or str."
   ]
  },
  {
   "cell_type": "code",
   "execution_count": 3,
   "id": "c366e9e9",
   "metadata": {},
   "outputs": [
    {
     "data": {
      "text/plain": [
       "'I have eaten 99 burritos.'"
      ]
     },
     "execution_count": 3,
     "metadata": {},
     "output_type": "execute_result"
    }
   ],
   "source": [
    "#Changing the integer to string i.e from 99 to '99'\n",
    "'I have eaten' + ' 99 ' + 'burritos.'"
   ]
  }
 ],
 "metadata": {
  "kernelspec": {
   "display_name": "Python 3",
   "language": "python",
   "name": "python3"
  },
  "language_info": {
   "codemirror_mode": {
    "name": "ipython",
    "version": 3
   },
   "file_extension": ".py",
   "mimetype": "text/x-python",
   "name": "python",
   "nbconvert_exporter": "python",
   "pygments_lexer": "ipython3",
   "version": "3.8.8"
  }
 },
 "nbformat": 4,
 "nbformat_minor": 5
}
