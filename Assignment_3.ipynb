{
 "cells": [
  {
   "cell_type": "markdown",
   "id": "7e32eddd",
   "metadata": {},
   "source": [
    "Functions reduce the need for duplicate code. This makes programs shorter, easier to read, and easier to update."
   ]
  },
  {
   "cell_type": "markdown",
   "id": "729be1a2",
   "metadata": {},
   "source": [
    "The code in a function executes when the function is called, not when the function is defined."
   ]
  },
  {
   "cell_type": "markdown",
   "id": "be196213",
   "metadata": {},
   "source": [
    "The def statement defines a function."
   ]
  },
  {
   "cell_type": "markdown",
   "id": "bff39e16",
   "metadata": {},
   "source": [
    "A function consists of the def statement and the code in its def clause. \n",
    "A function call is what moves the program execution into the function, and the function call evaluates to the functions return value."
   ]
  },
  {
   "cell_type": "markdown",
   "id": "4d5f3331",
   "metadata": {},
   "source": [
    "There is one global scope.\n",
    "Local scope is created whenever a function is called."
   ]
  },
  {
   "cell_type": "markdown",
   "id": "2f57cb05",
   "metadata": {},
   "source": [
    "When a function returns, the local scope is destroyed, and all the variables in it are forgotten."
   ]
  },
  {
   "cell_type": "markdown",
   "id": "1eaf9936",
   "metadata": {},
   "source": [
    "A return value is the value that a function call evaluates to. Like any value, a return value can be used as part of an expression."
   ]
  },
  {
   "cell_type": "markdown",
   "id": "010742c3",
   "metadata": {},
   "source": [
    "If there is no return statement for a function, its return value is NONE."
   ]
  },
  {
   "cell_type": "markdown",
   "id": "86850334",
   "metadata": {},
   "source": [
    "A global statement will force the variable in a function to refer to the global variable."
   ]
  },
  {
   "cell_type": "markdown",
   "id": "cd539a72",
   "metadata": {},
   "source": [
    "The data type of NONE is NONEType."
   ]
  },
  {
   "cell_type": "markdown",
   "id": "3cfe4968",
   "metadata": {},
   "source": [
    "That import statement imports a module named areallyyourpetsnamederoc"
   ]
  },
  {
   "cell_type": "markdown",
   "id": "6ae80cb4",
   "metadata": {},
   "source": [
    "This function could be called with spam.bacon()"
   ]
  },
  {
   "cell_type": "markdown",
   "id": "c3b8b713",
   "metadata": {},
   "source": [
    "Place the line of code that might cause an error in a try clause."
   ]
  },
  {
   "cell_type": "markdown",
   "id": "bbb4da5f",
   "metadata": {},
   "source": [
    "The code that could potentially cause an error goes in the try clause. The code that executes if an error happens goes in the except clause."
   ]
  }
 ],
 "metadata": {
  "kernelspec": {
   "display_name": "Python 3",
   "language": "python",
   "name": "python3"
  },
  "language_info": {
   "codemirror_mode": {
    "name": "ipython",
    "version": 3
   },
   "file_extension": ".py",
   "mimetype": "text/x-python",
   "name": "python",
   "nbconvert_exporter": "python",
   "pygments_lexer": "ipython3",
   "version": "3.8.8"
  }
 },
 "nbformat": 4,
 "nbformat_minor": 5
}
